{
 "cells": [
  {
   "cell_type": "code",
   "execution_count": 1,
   "id": "a7b4993a",
   "metadata": {},
   "outputs": [],
   "source": [
    "%matplotlib notebook\n",
    "import numpy as np\n",
    "import matplotlib.pyplot as plt\n",
    "import matplotlib.animation as anim\n",
    "from tqdm import tqdm"
   ]
  },
  {
   "cell_type": "code",
   "execution_count": 10,
   "id": "0abfc167",
   "metadata": {},
   "outputs": [],
   "source": [
    "class Particle:\n",
    "    \n",
    "    def __init__(self,r0,v0,a0,t,m=1,radius=0.3,Id=0):\n",
    "        \n",
    "        self.dt = t[1] - t[0]\n",
    "        \n",
    "        self.r = r0\n",
    "        self.v = v0\n",
    "        self.a = a0\n",
    "        \n",
    "        self.R = np.zeros((len(t),len(r0)))\n",
    "        self.V = np.zeros_like(self.R)\n",
    "        self.A = np.zeros_like(self.R)\n",
    "        \n",
    "        self.radius = radius\n",
    "        self.m = m\n",
    "        \n",
    "        self.r = [2,3]\n",
    "        \n",
    "    def SetPosition(self, i):\n",
    "        self.R[i] = self.r\n",
    "        \n",
    "    def GetPosition(self,scale=1):\n",
    "        return self.R[::scale]\n",
    "    \n",
    "    def SetVelocity(self, i):\n",
    "        self.V[i] = self.v\n",
    "        \n",
    "    def GetVelocity(self,scale=1):\n",
    "        return self.V[::scale]\n",
    "        \n",
    "        "
   ]
  },
  {
   "cell_type": "code",
   "execution_count": null,
   "id": "ccb2a26c",
   "metadata": {},
   "outputs": [],
   "source": [
    "def RunSimulation(t):\n",
    "    \n",
    "    r0 = np.zeros([0.1,0.1])\n",
    "    v0 = np.zeros([1,5])\n",
    "    a0 = np.zeros([0,0])\n",
    "    \n",
    "    p1 = Particle(r0,v0,a0,t)\n",
    "    \n",
    "    "
   ]
  },
  {
   "cell_type": "code",
   "execution_count": 11,
   "id": "9a49290e",
   "metadata": {},
   "outputs": [
    {
     "name": "stdout",
     "output_type": "stream",
     "text": [
      "[0.         0.11111111 0.22222222 0.33333333 0.44444444 0.55555556\n",
      " 0.66666667 0.77777778 0.88888889 1.        ]\n"
     ]
    }
   ],
   "source": [
    "t = np.linspace(0,1,10)\n",
    "print(t)\n",
    "p1 = Particle([0,0],[1,0],[0,0],t)"
   ]
  },
  {
   "cell_type": "code",
   "execution_count": null,
   "id": "c3fa8f88",
   "metadata": {},
   "outputs": [],
   "source": []
  }
 ],
 "metadata": {
  "kernelspec": {
   "display_name": "Python 3 (ipykernel)",
   "language": "python",
   "name": "python3"
  },
  "language_info": {
   "codemirror_mode": {
    "name": "ipython",
    "version": 3
   },
   "file_extension": ".py",
   "mimetype": "text/x-python",
   "name": "python",
   "nbconvert_exporter": "python",
   "pygments_lexer": "ipython3",
   "version": "3.9.12"
  }
 },
 "nbformat": 4,
 "nbformat_minor": 5
}
