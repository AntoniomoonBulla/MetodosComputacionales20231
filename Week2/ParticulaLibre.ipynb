{
 "cells": [
  {
   "cell_type": "code",
   "execution_count": 1,
   "id": "fed8b351",
   "metadata": {},
   "outputs": [],
   "source": [
    "%matplotlib notebook\n",
    "import numpy as np\n",
    "import matplotlib.pyplot as plt\n",
    "import matplotlib.animation as anim\n",
    "from tqdm import tqdm"
   ]
  },
  {
   "cell_type": "code",
   "execution_count": 15,
   "id": "4fd2da6d",
   "metadata": {},
   "outputs": [],
   "source": [
    "class Particle:\n",
    "    \n",
    "    def __init__(self,r0,v0,a0,t,m=1,radius=0.3,Id=0):\n",
    "        \n",
    "        self.dt = t[1] - t[0]\n",
    "        \n",
    "        self.r = r0\n",
    "        self.v = v0\n",
    "        self.a = a0\n",
    "        \n",
    "        self.R = np.zeros((len(t),len(r0)))\n",
    "        self.V = np.zeros_like(self.R)\n",
    "        self.A = np.zeros_like(self.R)\n",
    "        \n",
    "        self.radius = radius\n",
    "        self.m = m\n",
    "        \n",
    "        self.r = [2,3]\n",
    "        \n",
    "    def Evolution(self,i):\n",
    "        \n",
    "        self.SetPosition(i)\n",
    "        \n",
    "        self.r += self.v*self.dt \n",
    "        \n",
    "        \n",
    "    def SetPosition(self, i):\n",
    "        self.R[i] = self.r\n",
    "        \n",
    "    def GetPosition(self,scale=1):\n",
    "        return self.R[::scale]\n",
    "    \n",
    "    def SetVelocity(self, i):\n",
    "        self.V[i] = self.v\n",
    "        \n",
    "    def GetVelocity(self,scale=1):\n",
    "        return self.V[::scale]\n",
    "        \n",
    "        "
   ]
  },
  {
   "cell_type": "code",
   "execution_count": 20,
   "id": "cb47819a",
   "metadata": {},
   "outputs": [],
   "source": [
    "def RunSimulation(t):\n",
    "    \n",
    "    r0 = np.array([0.1,0.1])\n",
    "    v0 = np.array([1,5])\n",
    "    a0 = np.array([0,0])\n",
    "    \n",
    "    p1 = Particle(r0,v0,a0,t)\n",
    "    \n",
    "    for it in tqdm(range(len(t))):\n",
    "        p1.Evolution(it)\n",
    "        \n",
    "    return p1"
   ]
  },
  {
   "cell_type": "code",
   "execution_count": 21,
   "id": "ce510e49",
   "metadata": {},
   "outputs": [
    {
     "name": "stderr",
     "output_type": "stream",
     "text": [
      "100%|██████████████████████████████████████████████████████████| 100/100 [00:00<00:00, 47446.88it/s]\n"
     ]
    }
   ],
   "source": [
    "dt = 0.01\n",
    "tmax = 1\n",
    "t = np.arange(0,tmax,dt)\n",
    "Particles = RunSimulation(t)"
   ]
  },
  {
   "cell_type": "code",
   "execution_count": null,
   "id": "95ccbe7a",
   "metadata": {},
   "outputs": [],
   "source": []
  }
 ],
 "metadata": {
  "kernelspec": {
   "display_name": "Python 3 (ipykernel)",
   "language": "python",
   "name": "python3"
  },
  "language_info": {
   "codemirror_mode": {
    "name": "ipython",
    "version": 3
   },
   "file_extension": ".py",
   "mimetype": "text/x-python",
   "name": "python",
   "nbconvert_exporter": "python",
   "pygments_lexer": "ipython3",
   "version": "3.9.12"
  }
 },
 "nbformat": 4,
 "nbformat_minor": 5
}
