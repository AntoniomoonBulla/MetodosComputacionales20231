{
 "cells": [
  {
   "cell_type": "code",
   "execution_count": 2,
   "id": "83ec3c2e",
   "metadata": {},
   "outputs": [],
   "source": [
    "%matplotlib notebook\n",
    "import numpy as np\n",
    "import matplotlib.pyplot as plt\n",
    "from mpl_toolkits.mplot3d import axes3d"
   ]
  },
  {
   "cell_type": "code",
   "execution_count": 10,
   "id": "dc1216da",
   "metadata": {},
   "outputs": [],
   "source": [
    "A = 1\n",
    "B = 3\n",
    "omega = 2*np.pi/10\n",
    "N = 10"
   ]
  },
  {
   "cell_type": "code",
   "execution_count": 13,
   "id": "bef3f023",
   "metadata": {},
   "outputs": [],
   "source": [
    "t = np.linspace(0,10,N)\n",
    "#t\n",
    "r = np.zeros((N,3))"
   ]
  },
  {
   "cell_type": "code",
   "execution_count": 14,
   "id": "3404b7d5",
   "metadata": {},
   "outputs": [],
   "source": [
    "r[:,0] = A*np.cos(omega*t)\n",
    "r[:,1] = A*np.sin(omega*t)\n",
    "r[:,2] = B*t"
   ]
  },
  {
   "cell_type": "code",
   "execution_count": null,
   "id": "5867b580",
   "metadata": {},
   "outputs": [],
   "source": []
  },
  {
   "cell_type": "code",
   "execution_count": null,
   "id": "6354d04c",
   "metadata": {},
   "outputs": [],
   "source": []
  }
 ],
 "metadata": {
  "kernelspec": {
   "display_name": "Python 3 (ipykernel)",
   "language": "python",
   "name": "python3"
  },
  "language_info": {
   "codemirror_mode": {
    "name": "ipython",
    "version": 3
   },
   "file_extension": ".py",
   "mimetype": "text/x-python",
   "name": "python",
   "nbconvert_exporter": "python",
   "pygments_lexer": "ipython3",
   "version": "3.9.12"
  }
 },
 "nbformat": 4,
 "nbformat_minor": 5
}
