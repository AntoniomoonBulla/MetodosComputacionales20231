{
 "cells": [
  {
   "cell_type": "code",
   "execution_count": 1,
   "id": "78b04968",
   "metadata": {},
   "outputs": [],
   "source": [
    "import numpy as np\n",
    "import matplotlib.pyplot as plt\n",
    "from IPython.display import clear_output\n",
    "import time"
   ]
  },
  {
   "cell_type": "code",
   "execution_count": 2,
   "id": "4af0b552",
   "metadata": {},
   "outputs": [],
   "source": [
    "class Robot:\n",
    "    \n",
    "    def __init__(self,dt,Id=0):\n",
    "        \n",
    "        # Time\n",
    "        self.dt = dt\n",
    "        self.Id = Id\n",
    "        \n",
    "        # Position\n",
    "        self.r = np.array([0.,0.])\n",
    "        \n",
    "        # Velocity\n",
    "        theta = np.random.uniform(0,2*np.pi)\n",
    "        V = 1.\n",
    "        self.v = np.array([V*np.cos(theta),V*np.sin(theta)])\n",
    "        \n",
    "    def Evolution(self):\n",
    "        self.r += self.v*self.dt"
   ]
  },
  {
   "cell_type": "code",
   "execution_count": 3,
   "id": "08613e9c",
   "metadata": {},
   "outputs": [],
   "source": [
    "dt = 0.01\n",
    "r1 = Robot(dt,0)"
   ]
  },
  {
   "cell_type": "code",
   "execution_count": 4,
   "id": "97da55db",
   "metadata": {},
   "outputs": [
    {
     "name": "stdout",
     "output_type": "stream",
     "text": [
      "0 [-0.870962   -0.47066464] [-0.87975959 -0.47541883]\n"
     ]
    }
   ],
   "source": [
    "for it in range(100):\n",
    "    clear_output(True)\n",
    "    print(r1.Id,r1.r,r1.v)\n",
    "    r1.Evolution()\n",
    "    time.sleep(0.1)"
   ]
  },
  {
   "cell_type": "code",
   "execution_count": null,
   "id": "863f8555",
   "metadata": {},
   "outputs": [],
   "source": []
  }
 ],
 "metadata": {
  "kernelspec": {
   "display_name": "Python 3 (ipykernel)",
   "language": "python",
   "name": "python3"
  },
  "language_info": {
   "codemirror_mode": {
    "name": "ipython",
    "version": 3
   },
   "file_extension": ".py",
   "mimetype": "text/x-python",
   "name": "python",
   "nbconvert_exporter": "python",
   "pygments_lexer": "ipython3",
   "version": "3.9.12"
  }
 },
 "nbformat": 4,
 "nbformat_minor": 5
}
