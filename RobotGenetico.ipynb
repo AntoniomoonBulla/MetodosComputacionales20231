{
 "cells": [
  {
   "cell_type": "code",
   "execution_count": 3,
   "id": "78b04968",
   "metadata": {},
   "outputs": [],
   "source": [
    "import numpy as np\n",
    "import matplotlib.pyplot as plt\n",
    "from IPython.display import clear_output\n",
    "import time"
   ]
  },
  {
   "cell_type": "code",
   "execution_count": 11,
   "id": "4af0b552",
   "metadata": {},
   "outputs": [],
   "source": [
    "class Robot:\n",
    "    \n",
    "    def __init__(self,dt,Id=0):\n",
    "        \n",
    "        self.dt = dt\n",
    "        self.Id = Id\n",
    "        \n",
    "        theta = np.random.uniform(0,2*np.pi)\n",
    "        V = 1.\n",
    "        self.v = np.array([V*np.cos(theta),V*np.sin(theta)])\n",
    "        \n",
    "    def Evolution(self):\n",
    "        self.r += self.v*self.dt"
   ]
  },
  {
   "cell_type": "code",
   "execution_count": 12,
   "id": "08613e9c",
   "metadata": {},
   "outputs": [],
   "source": [
    "r1 = Robot(0.1,0)"
   ]
  },
  {
   "cell_type": "code",
   "execution_count": 13,
   "id": "97da55db",
   "metadata": {},
   "outputs": [
    {
     "data": {
      "text/plain": [
       "array([ 0.99075436, -0.13566794])"
      ]
     },
     "execution_count": 13,
     "metadata": {},
     "output_type": "execute_result"
    }
   ],
   "source": [
    "r1.v"
   ]
  },
  {
   "cell_type": "code",
   "execution_count": null,
   "id": "dc0de5f0",
   "metadata": {},
   "outputs": [],
   "source": []
  },
  {
   "cell_type": "code",
   "execution_count": 16,
   "id": "ac7a1c2c",
   "metadata": {},
   "outputs": [
    {
     "data": {
      "text/plain": [
       "array([ 0.83003595, -0.55770989])"
      ]
     },
     "execution_count": 16,
     "metadata": {},
     "output_type": "execute_result"
    }
   ],
   "source": [
    "r1 = Robot(0.1,1)\n",
    "r1.v"
   ]
  },
  {
   "cell_type": "code",
   "execution_count": null,
   "id": "df9085fd",
   "metadata": {},
   "outputs": [],
   "source": []
  }
 ],
 "metadata": {
  "kernelspec": {
   "display_name": "Python 3 (ipykernel)",
   "language": "python",
   "name": "python3"
  },
  "language_info": {
   "codemirror_mode": {
    "name": "ipython",
    "version": 3
   },
   "file_extension": ".py",
   "mimetype": "text/x-python",
   "name": "python",
   "nbconvert_exporter": "python",
   "pygments_lexer": "ipython3",
   "version": "3.9.12"
  }
 },
 "nbformat": 4,
 "nbformat_minor": 5
}
