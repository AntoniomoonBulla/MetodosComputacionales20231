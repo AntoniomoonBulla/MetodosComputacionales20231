{
 "cells": [
  {
   "cell_type": "code",
   "execution_count": 2,
   "id": "067e04c3",
   "metadata": {},
   "outputs": [],
   "source": [
    "import numpy as np\n",
    "import matplotlib.pyplot as plt"
   ]
  },
  {
   "cell_type": "code",
   "execution_count": 5,
   "id": "be705dcb",
   "metadata": {},
   "outputs": [
    {
     "data": {
      "text/plain": [
       "array([0., 0., 0., 0., 0., 0., 0., 0., 0., 0.])"
      ]
     },
     "execution_count": 5,
     "metadata": {},
     "output_type": "execute_result"
    }
   ],
   "source": [
    "x = 2.\n",
    "n = 10\n",
    "func = np.zeros(n)\n",
    "func"
   ]
  },
  {
   "cell_type": "code",
   "execution_count": 6,
   "id": "7e2cbe92",
   "metadata": {},
   "outputs": [
    {
     "data": {
      "text/plain": [
       "array([2., 0., 0., 0., 0., 0., 0., 0., 0., 0.])"
      ]
     },
     "execution_count": 6,
     "metadata": {},
     "output_type": "execute_result"
    }
   ],
   "source": [
    "func[0] = x\n",
    "func"
   ]
  },
  {
   "cell_type": "code",
   "execution_count": 7,
   "id": "4e41fabf",
   "metadata": {},
   "outputs": [],
   "source": [
    "def Update(f,x):\n",
    "    \n",
    "    f = (x/f + f)/2.\n",
    "    \n",
    "    return f"
   ]
  },
  {
   "cell_type": "code",
   "execution_count": 10,
   "id": "2a61ffbb",
   "metadata": {},
   "outputs": [],
   "source": [
    "for i in range(1,n):\n",
    "    func[i] = Update(func[i-1],x)"
   ]
  },
  {
   "cell_type": "code",
   "execution_count": 11,
   "id": "45690a21",
   "metadata": {},
   "outputs": [
    {
     "data": {
      "text/plain": [
       "array([2.        , 1.5       , 1.41666667, 1.41421569, 1.41421356,\n",
       "       1.41421356, 1.41421356, 1.41421356, 1.41421356, 1.41421356])"
      ]
     },
     "execution_count": 11,
     "metadata": {},
     "output_type": "execute_result"
    }
   ],
   "source": [
    "func"
   ]
  },
  {
   "cell_type": "code",
   "execution_count": 12,
   "id": "ca092e99",
   "metadata": {},
   "outputs": [
    {
     "data": {
      "text/plain": [
       "1.414213562373095"
      ]
     },
     "execution_count": 12,
     "metadata": {},
     "output_type": "execute_result"
    }
   ],
   "source": [
    "func[-1]"
   ]
  },
  {
   "cell_type": "code",
   "execution_count": 13,
   "id": "e30b52fe",
   "metadata": {},
   "outputs": [
    {
     "data": {
      "text/plain": [
       "array([0, 1, 2, 3, 4, 5, 6, 7, 8, 9])"
      ]
     },
     "execution_count": 13,
     "metadata": {},
     "output_type": "execute_result"
    }
   ],
   "source": [
    "k = np.arange(0,n,1)\n",
    "k"
   ]
  },
  {
   "cell_type": "code",
   "execution_count": 22,
   "id": "8a4ba3e6",
   "metadata": {},
   "outputs": [
    {
     "data": {
      "text/plain": [
       "<matplotlib.lines.Line2D at 0x7f379053a520>"
      ]
     },
     "execution_count": 22,
     "metadata": {},
     "output_type": "execute_result"
    },
    {
     "data": {
      "image/png": "[encoded data removed]",
      "text/plain": [
       "<Figure size 432x288 with 1 Axes>"
      ]
     },
     "metadata": {
      "needs_background": "light"
     },
     "output_type": "display_data"
    }
   ],
   "source": [
    "plt.scatter(k,func,marker='*',s=70)\n",
    "plt.xlabel(r'$n$',fontsize=15)\n",
    "plt.ylabel(r'$f_{n}(x)$',fontsize=15)\n",
    "plt.axhline(y=np.sqrt(x),color='r',ls='--')"
   ]
  },
  {
   "cell_type": "code",
   "execution_count": 35,
   "id": "811902c6",
   "metadata": {},
   "outputs": [],
   "source": [
    "A = np.array([1,0])\n",
    "B = np.array([0,1])"
   ]
  },
  {
   "cell_type": "code",
   "execution_count": 36,
   "id": "42ba9a24",
   "metadata": {},
   "outputs": [],
   "source": [
    "def GetCrossProduct(A,B):\n",
    "    \n",
    "    C = np.zeros(3)\n",
    "    \n",
    "    C[2] = A[0]*B[1] - A[1]*B[0]\n",
    "    \n",
    "    return C"
   ]
  },
  {
   "cell_type": "code",
   "execution_count": 37,
   "id": "b149737f",
   "metadata": {},
   "outputs": [
    {
     "data": {
      "text/plain": [
       "array([ 0.,  0., -1.])"
      ]
     },
     "execution_count": 37,
     "metadata": {},
     "output_type": "execute_result"
    }
   ],
   "source": [
    "C = GetCrossProduct(B,A)\n",
    "C"
   ]
  },
  {
   "cell_type": "code",
   "execution_count": 38,
   "id": "53b40750",
   "metadata": {},
   "outputs": [],
   "source": [
    "def GetArea(C):\n",
    "    return np.sqrt( np.sum(C**2) )"
   ]
  },
  {
   "cell_type": "code",
   "execution_count": 39,
   "id": "491e648a",
   "metadata": {},
   "outputs": [
    {
     "data": {
      "text/plain": [
       "1.0"
      ]
     },
     "execution_count": 39,
     "metadata": {},
     "output_type": "execute_result"
    }
   ],
   "source": [
    "Area1 = GetArea(C)\n",
    "Area1"
   ]
  },
  {
   "cell_type": "code",
   "execution_count": 46,
   "id": "25747207",
   "metadata": {},
   "outputs": [],
   "source": [
    "def Transform(A):\n",
    "    \n",
    "    M = np.zeros( (2,2) )\n",
    "    \n",
    "    M[0,:] = [4,2]\n",
    "    M[1,:] = [1,2]\n",
    "    \n",
    "    At = np.zeros_like(A)\n",
    "    \n",
    "    \n",
    "    print(M)"
   ]
  },
  {
   "cell_type": "code",
   "execution_count": 47,
   "id": "d4621614",
   "metadata": {},
   "outputs": [
    {
     "name": "stdout",
     "output_type": "stream",
     "text": [
      "[[4. 2.]\n",
      " [1. 2.]]\n"
     ]
    }
   ],
   "source": [
    "Transform(A)"
   ]
  },
  {
   "cell_type": "code",
   "execution_count": null,
   "id": "2ed4df5b",
   "metadata": {},
   "outputs": [],
   "source": []
  }
 ],
 "metadata": {
  "kernelspec": {
   "display_name": "Python 3 (ipykernel)",
   "language": "python",
   "name": "python3"
  },
  "language_info": {
   "codemirror_mode": {
    "name": "ipython",
    "version": 3
   },
   "file_extension": ".py",
   "mimetype": "text/x-python",
   "name": "python",
   "nbconvert_exporter": "python",
   "pygments_lexer": "ipython3",
   "version": "3.9.12"
  }
 },
 "nbformat": 4,
 "nbformat_minor": 5
}
