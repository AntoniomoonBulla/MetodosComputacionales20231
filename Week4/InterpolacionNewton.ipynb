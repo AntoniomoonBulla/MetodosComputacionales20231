{
 "cells": [
  {
   "cell_type": "code",
   "execution_count": 1,
   "id": "40340b7f",
   "metadata": {},
   "outputs": [],
   "source": [
    "import numpy as np\n",
    "import matplotlib.pyplot as plt\n",
    "from matplotlib import rc\n",
    "import pandas as pd\n",
    "import sympy as sym\n",
    "import os.path as path\n",
    "import os\n",
    "import wget"
   ]
  },
  {
   "cell_type": "code",
   "execution_count": 2,
   "id": "14024c3c",
   "metadata": {},
   "outputs": [],
   "source": [
    "if not path.exists('Data'):\n",
    "    os.mkdir('Data')\n",
    "    \n",
    "file = 'Data/InterpolacionNewton.csv'\n",
    "url = 'https://raw.githubusercontent.com/asegura4488/Database/main/MetodosComputacionalesReforma/InterpolacionNewton.csv'\n",
    "\n",
    "if not path.exists(file):\n",
    "    Path_ = wget.download(url,file)\n",
    "    \n",
    "else:\n",
    "    Path_ = file"
   ]
  },
  {
   "cell_type": "code",
   "execution_count": 3,
   "id": "41bab188",
   "metadata": {},
   "outputs": [
    {
     "data": {
      "text/html": [
       "<div>\n",
       "<style scoped>\n",
       "    .dataframe tbody tr th:only-of-type {\n",
       "        vertical-align: middle;\n",
       "    }\n",
       "\n",
       "    .dataframe tbody tr th {\n",
       "        vertical-align: top;\n",
       "    }\n",
       "\n",
       "    .dataframe thead th {\n",
       "        text-align: right;\n",
       "    }\n",
       "</style>\n",
       "<table border=\"1\" class=\"dataframe\">\n",
       "  <thead>\n",
       "    <tr style=\"text-align: right;\">\n",
       "      <th></th>\n",
       "      <th>X</th>\n",
       "      <th>Y</th>\n",
       "    </tr>\n",
       "  </thead>\n",
       "  <tbody>\n",
       "    <tr>\n",
       "      <th>0</th>\n",
       "      <td>-3</td>\n",
       "      <td>39</td>\n",
       "    </tr>\n",
       "    <tr>\n",
       "      <th>1</th>\n",
       "      <td>-1</td>\n",
       "      <td>19</td>\n",
       "    </tr>\n",
       "    <tr>\n",
       "      <th>2</th>\n",
       "      <td>1</td>\n",
       "      <td>-21</td>\n",
       "    </tr>\n",
       "    <tr>\n",
       "      <th>3</th>\n",
       "      <td>3</td>\n",
       "      <td>-57</td>\n",
       "    </tr>\n",
       "    <tr>\n",
       "      <th>4</th>\n",
       "      <td>5</td>\n",
       "      <td>-65</td>\n",
       "    </tr>\n",
       "    <tr>\n",
       "      <th>5</th>\n",
       "      <td>7</td>\n",
       "      <td>-21</td>\n",
       "    </tr>\n",
       "    <tr>\n",
       "      <th>6</th>\n",
       "      <td>9</td>\n",
       "      <td>99</td>\n",
       "    </tr>\n",
       "  </tbody>\n",
       "</table>\n",
       "</div>"
      ],
      "text/plain": [
       "   X   Y\n",
       "0 -3  39\n",
       "1 -1  19\n",
       "2  1 -21\n",
       "3  3 -57\n",
       "4  5 -65\n",
       "5  7 -21\n",
       "6  9  99"
      ]
     },
     "execution_count": 3,
     "metadata": {},
     "output_type": "execute_result"
    }
   ],
   "source": [
    "Data = pd.read_csv(Path_)\n",
    "Data"
   ]
  },
  {
   "cell_type": "code",
   "execution_count": 4,
   "id": "f1bd6586",
   "metadata": {},
   "outputs": [
    {
     "name": "stdout",
     "output_type": "stream",
     "text": [
      "[-3. -1.  1.  3.  5.  7.  9.] [ 39.  19. -21. -57. -65. -21.  99.]\n"
     ]
    }
   ],
   "source": [
    "X = np.float64(Data.X)\n",
    "Y = np.float64(Data.Y)\n",
    "print(X,Y)"
   ]
  },
  {
   "cell_type": "code",
   "execution_count": 5,
   "id": "efa423da",
   "metadata": {},
   "outputs": [
    {
     "data": {
      "text/plain": [
       "<matplotlib.collections.PathCollection at 0x7fb9a66c69d0>"
      ]
     },
     "execution_count": 5,
     "metadata": {},
     "output_type": "execute_result"
    },
    {
     "data": {
      "image/png": "[encoded data removed]",
      "text/plain": [
       "<Figure size 432x288 with 1 Axes>"
      ]
     },
     "metadata": {
      "needs_background": "light"
     },
     "output_type": "display_data"
    }
   ],
   "source": [
    "plt.scatter(X,Y,color='r',marker='o')"
   ]
  },
  {
   "cell_type": "code",
   "execution_count": 10,
   "id": "b4269bd5",
   "metadata": {},
   "outputs": [
    {
     "data": {
      "text/plain": [
       "array([[ 39.,   0.,   0.,   0.,   0.,   0.,   0.],\n",
       "       [ 19., -20.,   0.,   0.,   0.,   0.,   0.],\n",
       "       [-21., -40., -20.,   0.,   0.,   0.,   0.],\n",
       "       [-57., -36.,   4.,  24.,   0.,   0.,   0.],\n",
       "       [-65.,  -8.,  28.,  24.,   0.,   0.,   0.],\n",
       "       [-21.,  44.,  52.,  24.,   0.,   0.,   0.],\n",
       "       [ 99., 120.,  76.,  24.,   0.,   0.,   0.]])"
      ]
     },
     "execution_count": 10,
     "metadata": {},
     "output_type": "execute_result"
    }
   ],
   "source": [
    "Diff = np.zeros((len(X),len(X)))\n",
    "Diff[:,0] = Y\n",
    "Diff\n",
    "\n",
    "for i in range(1,len(X)):\n",
    "    for j in range(i,len(X)):\n",
    "        Diff[j,i] = Diff[j,i-1] - Diff[j-1,i-1]\n",
    "Diff"
   ]
  },
  {
   "cell_type": "code",
   "execution_count": 13,
   "id": "c81cfc6f",
   "metadata": {},
   "outputs": [],
   "source": [
    "def NewtonInterpolation(X,Y,x):\n",
    "    \n",
    "    sum_ = Y[0]\n",
    "    \n",
    "    Diff = np.zeros((len(X),len(X)))\n",
    "    h = X[1] - X[0]\n",
    "    \n",
    "    Diff[:,0] = Y\n",
    "    \n",
    "    poly = 1.0\n",
    "    \n",
    "    for i in range(1,len(X)):\n",
    "        \n",
    "        poly *= (x - X[i-1])\n",
    "        \n",
    "        for j in range(i,len(X)): \n",
    "            \n",
    "            Diff[j,i] = Diff[j,i-1] - Diff[j-1,i-1]\n",
    "        \n",
    "        sum_ += poly*Diff[i,i]/(np.math.factorial(i)*h**(i))\n",
    "\n",
    "    return sum_"
   ]
  },
  {
   "cell_type": "code",
   "execution_count": 18,
   "id": "42a221d9",
   "metadata": {},
   "outputs": [],
   "source": [
    "xt = np.linspace(X[0],X[-1],100)\n",
    "\n",
    "yt = []\n",
    "\n",
    "for i in range(len(xt)):\n",
    "    yt.append(NewtonInterpolation(X,Y,xt[i]))\n",
    "\n"
   ]
  },
  {
   "cell_type": "code",
   "execution_count": 19,
   "id": "a7f309f3",
   "metadata": {},
   "outputs": [
    {
     "data": {
      "text/plain": [
       "[<matplotlib.lines.Line2D at 0x7fb9a52794f0>]"
      ]
     },
     "execution_count": 19,
     "metadata": {},
     "output_type": "execute_result"
    },
    {
     "data": {
      "image/png": "[encoded data removed]",
      "text/plain": [
       "<Figure size 432x288 with 1 Axes>"
      ]
     },
     "metadata": {
      "needs_background": "light"
     },
     "output_type": "display_data"
    }
   ],
   "source": [
    "plt.scatter(X,Y,color='r',marker='o')\n",
    "plt.plot(xt,yt)"
   ]
  },
  {
   "cell_type": "code",
   "execution_count": null,
   "id": "34fc3821",
   "metadata": {},
   "outputs": [],
   "source": []
  },
  {
   "cell_type": "code",
   "execution_count": null,
   "id": "c023dcf7",
   "metadata": {},
   "outputs": [],
   "source": []
  }
 ],
 "metadata": {
  "kernelspec": {
   "display_name": "Python 3 (ipykernel)",
   "language": "python",
   "name": "python3"
  },
  "language_info": {
   "codemirror_mode": {
    "name": "ipython",
    "version": 3
   },
   "file_extension": ".py",
   "mimetype": "text/x-python",
   "name": "python",
   "nbconvert_exporter": "python",
   "pygments_lexer": "ipython3",
   "version": "3.9.12"
  }
 },
 "nbformat": 4,
 "nbformat_minor": 5
}
