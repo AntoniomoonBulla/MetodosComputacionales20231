{
 "cells": [
  {
   "cell_type": "code",
   "execution_count": 1,
   "id": "4429542c",
   "metadata": {},
   "outputs": [
    {
     "data": {
      "text/html": [
       "<style>.container { width:100% !important; }</style>"
      ],
      "text/plain": [
       "<IPython.core.display.HTML object>"
      ]
     },
     "metadata": {},
     "output_type": "display_data"
    }
   ],
   "source": [
    "from IPython.display import display, HTML\n",
    "display(HTML(\"<style>.container { width:100% !important; }</style>\"))\n",
    "import numpy as np\n",
    "import matplotlib.pyplot as plt\n",
    "from scipy import integrate"
   ]
  },
  {
   "cell_type": "code",
   "execution_count": 2,
   "id": "331eb530",
   "metadata": {},
   "outputs": [],
   "source": [
    "class Integrator:\n",
    "    \n",
    "    def __init__(self, x, f):\n",
    "        \n",
    "        self.x = x\n",
    "        self.h = self.x[1] - self.x[0]\n",
    "        \n",
    "        self.y = f(self.x)\n",
    "        \n",
    "        self.Integral = 0.\n",
    "        self.Error = 0.\n",
    "        \n",
    "        \n",
    "    def GetStep(self):\n",
    "        return self.h"
   ]
  },
  {
   "cell_type": "code",
   "execution_count": 7,
   "id": "f919cb56",
   "metadata": {},
   "outputs": [],
   "source": [
    "class Trapezoid(Integrator):\n",
    "    \n",
    "    def __init__(self,x,f):\n",
    "        Integrator.__init__(self,x,f)\n",
    "        \n",
    "    def GetIntegral(self):\n",
    "        \n",
    "        self.Integral = 0.\n",
    "        \n",
    "        self.Integral += 0.5*(self.y[0]+self.y[-1])\n",
    "        \n",
    "        self.Integral += np.sum( self.y[1:-1] )\n",
    "        \n",
    "        return self.Integral*self.h"
   ]
  },
  {
   "cell_type": "code",
   "execution_count": 8,
   "id": "52a93e17",
   "metadata": {},
   "outputs": [],
   "source": [
    "f = lambda x: np.sin(x)\n",
    "N = 12\n",
    "x = np.linspace(0,0.5*np.pi,N)"
   ]
  },
  {
   "cell_type": "code",
   "execution_count": 12,
   "id": "afea8a47",
   "metadata": {},
   "outputs": [
    {
     "data": {
      "text/plain": [
       "0.9983001101346353"
      ]
     },
     "execution_count": 12,
     "metadata": {},
     "output_type": "execute_result"
    }
   ],
   "source": [
    "Integrador1 = Trapezoid(x,f)\n",
    "Integrador1.GetIntegral()"
   ]
  },
  {
   "cell_type": "code",
   "execution_count": 14,
   "id": "2918635e",
   "metadata": {},
   "outputs": [
    {
     "data": {
      "text/plain": [
       "0.9983001101346352"
      ]
     },
     "execution_count": 14,
     "metadata": {},
     "output_type": "execute_result"
    }
   ],
   "source": [
    "integrate.trapezoid(f(x,),x)"
   ]
  },
  {
   "cell_type": "code",
   "execution_count": null,
   "id": "9da4acd8",
   "metadata": {},
   "outputs": [],
   "source": []
  }
 ],
 "metadata": {
  "kernelspec": {
   "display_name": "Python 3 (ipykernel)",
   "language": "python",
   "name": "python3"
  },
  "language_info": {
   "codemirror_mode": {
    "name": "ipython",
    "version": 3
   },
   "file_extension": ".py",
   "mimetype": "text/x-python",
   "name": "python",
   "nbconvert_exporter": "python",
   "pygments_lexer": "ipython3",
   "version": "3.9.12"
  }
 },
 "nbformat": 4,
 "nbformat_minor": 5
}
