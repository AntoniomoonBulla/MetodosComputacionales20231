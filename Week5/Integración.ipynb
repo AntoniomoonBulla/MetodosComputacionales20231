{
 "cells": [
  {
   "cell_type": "code",
   "execution_count": 1,
   "id": "4429542c",
   "metadata": {},
   "outputs": [
    {
     "data": {
      "text/html": [
       "<style>.container { width:100% !important; }</style>"
      ],
      "text/plain": [
       "<IPython.core.display.HTML object>"
      ]
     },
     "metadata": {},
     "output_type": "display_data"
    }
   ],
   "source": [
    "from IPython.display import display, HTML\n",
    "display(HTML(\"<style>.container { width:100% !important; }</style>\"))\n",
    "import numpy as np\n",
    "import matplotlib.pyplot as plt\n",
    "from scipy import integrate"
   ]
  },
  {
   "cell_type": "code",
   "execution_count": 2,
   "id": "331eb530",
   "metadata": {},
   "outputs": [],
   "source": [
    "class Integrator:\n",
    "    \n",
    "    def __init__(self, x, f):\n",
    "        \n",
    "        self.x = x\n",
    "        self.h = self.x[1] - self.x[0]\n",
    "        \n",
    "        self.y = f(self.x)\n",
    "        \n",
    "        self.Integral = 0.\n",
    "        self.Error = 0.\n",
    "        \n",
    "        \n",
    "    def GetStep(self):\n",
    "        return self.h"
   ]
  },
  {
   "cell_type": "code",
   "execution_count": 56,
   "id": "29038340",
   "metadata": {},
   "outputs": [],
   "source": [
    "class Trapezoid(Integrator):\n",
    "    \n",
    "    def __init__(self,x,f):\n",
    "        Integrator.__init__(self,x,f)\n",
    "        \n",
    "    def GetIntegral(self):\n",
    "        \n",
    "        self.Integral = 0.\n",
    "        \n",
    "        self.Integral += 0.5*(self.y[0]+self.y[-1])\n",
    "        \n",
    "        self.Integral += np.sum( self.y[1:-1] )\n",
    "        \n",
    "        return self.Integral*self.h\n",
    "    \n",
    "    def GetDerivative(self):\n",
    "        return ( f(self.x+self.h) - 2*f(self.x) + f(self.x-self.h) )/self.h**2\n",
    "    \n",
    "    def GetError(self):\n",
    "        \n",
    "        d = self.GetDerivative()\n",
    "        \n",
    "        max_ = np.max(np.abs(d))\n",
    "        \n",
    "        self.error = (max_*(self.x[-1]-self.x[0])**3)/(12*(len(self.x)-1)**2)\n",
    "        \n",
    "        return self.error"
   ]
  },
  {
   "cell_type": "code",
   "execution_count": 65,
   "id": "39791a21",
   "metadata": {},
   "outputs": [],
   "source": [
    "class Simpson(Integrator):\n",
    "    \n",
    "    def __init__(self,x,f):\n",
    "        Integrator.__init__(self,x,f)\n",
    "        \n",
    "    def GetIntegral(self):\n",
    "        \n",
    "        self.Integral = 0.\n",
    "        \n",
    "        self.Integral += self.y[0]+self.y[-1]\n",
    "        \n",
    "        \n",
    "        for i in range( len(self.y[1:-1]) ):\n",
    "            if i%2 == 0:\n",
    "                self.Integral += 4.*self.y[i+1]\n",
    "            else:\n",
    "                self.Integral += 2.*self.y[i+1]\n",
    "        \n",
    "        \n",
    "        return self.Integral*self.h/3.\n",
    "    \n",
    "    def GetDerivative(self):\n",
    "        \n",
    "        d = f(self.x+2*self.h) - 4*f(self.x+self.h) + 6*f(self.x) - 4*f(self.x-self.h) + f(self.x-2*self.h)\n",
    "        d = d/self.h**4\n",
    "        return d\n",
    "    \n",
    "    def GetError(self):\n",
    "            \n",
    "        d = self.GetDerivative()\n",
    "            \n",
    "        max_ = np.max( np.abs(d) )\n",
    "            \n",
    "        self.error = ( (self.x[-1]-self.x[0])*self.h**4 * max_  ) /180\n",
    "            \n",
    "        return self.error\n"
   ]
  },
  {
   "cell_type": "code",
   "execution_count": 66,
   "id": "028a13cb",
   "metadata": {},
   "outputs": [],
   "source": [
    "f = lambda x: np.sin(x)\n",
    "N = 12\n",
    "x = np.linspace(0,0.5*np.pi,N+1)"
   ]
  },
  {
   "cell_type": "code",
   "execution_count": 67,
   "id": "afe374d2",
   "metadata": {},
   "outputs": [
    {
     "data": {
      "text/plain": [
       "0.9985716979019743"
      ]
     },
     "execution_count": 67,
     "metadata": {},
     "output_type": "execute_result"
    }
   ],
   "source": [
    "Integrador1 = Trapezoid(x,f)\n",
    "Integrador1.GetIntegral()"
   ]
  },
  {
   "cell_type": "code",
   "execution_count": 68,
   "id": "d055cc73",
   "metadata": {},
   "outputs": [
    {
     "data": {
      "text/plain": [
       "0.002239730054873284"
      ]
     },
     "execution_count": 68,
     "metadata": {},
     "output_type": "execute_result"
    }
   ],
   "source": [
    "Integrador1.GetError()"
   ]
  },
  {
   "cell_type": "code",
   "execution_count": 69,
   "id": "52391cc8",
   "metadata": {},
   "outputs": [
    {
     "data": {
      "text/plain": [
       "1.0000016344385794"
      ]
     },
     "execution_count": 69,
     "metadata": {},
     "output_type": "execute_result"
    }
   ],
   "source": [
    "Integrador2 = Simpson(x,f)\n",
    "Integrador2.GetIntegral()"
   ]
  },
  {
   "cell_type": "code",
   "execution_count": 70,
   "id": "cc204613",
   "metadata": {},
   "outputs": [
    {
     "data": {
      "text/plain": [
       "2.5548268139593947e-06"
      ]
     },
     "execution_count": 70,
     "metadata": {},
     "output_type": "execute_result"
    }
   ],
   "source": [
    "Integrador2.GetError()"
   ]
  },
  {
   "cell_type": "code",
   "execution_count": 44,
   "id": "5fc57e7a",
   "metadata": {},
   "outputs": [
    {
     "data": {
      "text/plain": [
       "0.9985716979019744"
      ]
     },
     "execution_count": 44,
     "metadata": {},
     "output_type": "execute_result"
    }
   ],
   "source": [
    "integrate.trapezoid(f(x),x)"
   ]
  },
  {
   "cell_type": "code",
   "execution_count": 45,
   "id": "4133cf5b",
   "metadata": {},
   "outputs": [
    {
     "data": {
      "text/plain": [
       "1.0000016344385798"
      ]
     },
     "execution_count": 45,
     "metadata": {},
     "output_type": "execute_result"
    }
   ],
   "source": [
    "integrate.simpson(f(x),x)"
   ]
  },
  {
   "cell_type": "code",
   "execution_count": null,
   "id": "0b51ca56",
   "metadata": {},
   "outputs": [],
   "source": []
  },
  {
   "cell_type": "code",
   "execution_count": null,
   "id": "611aa301",
   "metadata": {},
   "outputs": [],
   "source": []
  }
 ],
 "metadata": {
  "kernelspec": {
   "display_name": "Python 3 (ipykernel)",
   "language": "python",
   "name": "python3"
  },
  "language_info": {
   "codemirror_mode": {
    "name": "ipython",
    "version": 3
   },
   "file_extension": ".py",
   "mimetype": "text/x-python",
   "name": "python",
   "nbconvert_exporter": "python",
   "pygments_lexer": "ipython3",
   "version": "3.9.12"
  }
 },
 "nbformat": 4,
 "nbformat_minor": 5
}
