{
 "cells": [
  {
   "cell_type": "code",
   "execution_count": 1,
   "id": "4429542c",
   "metadata": {},
   "outputs": [
    {
     "data": {
      "text/html": [
       "<style>.container { width:100% !important; }</style>"
      ],
      "text/plain": [
       "<IPython.core.display.HTML object>"
      ]
     },
     "metadata": {},
     "output_type": "display_data"
    }
   ],
   "source": [
    "from IPython.display import display, HTML\n",
    "display(HTML(\"<style>.container { width:100% !important; }</style>\"))\n",
    "import numpy as np\n",
    "import matplotlib.pyplot as plt\n",
    "from scipy import integrate"
   ]
  },
  {
   "cell_type": "code",
   "execution_count": 2,
   "id": "331eb530",
   "metadata": {},
   "outputs": [],
   "source": [
    "class Integrator:\n",
    "    \n",
    "    def __init__(self, x, f):\n",
    "        \n",
    "        self.x = x\n",
    "        self.h = self.x[1] - self.x[0]\n",
    "        \n",
    "        self.y = f(self.x)\n",
    "        \n",
    "        self.Integral = 0.\n",
    "        self.Error = 0.\n",
    "        \n",
    "        \n",
    "    def GetStep(self):\n",
    "        return self.h"
   ]
  },
  {
   "cell_type": "code",
   "execution_count": 3,
   "id": "3089d6ed",
   "metadata": {},
   "outputs": [],
   "source": [
    "class Trapezoid(Integrator):\n",
    "    \n",
    "    def __init__(self,x,f):\n",
    "        Integrator.__init__(self,x,f)\n",
    "        \n",
    "    def GetIntegral(self):\n",
    "        \n",
    "        self.Integral = 0.\n",
    "        \n",
    "        self.Integral += 0.5*(self.y[0]+self.y[-1])\n",
    "        \n",
    "        self.Integral += np.sum( self.y[1:-1] )\n",
    "        \n",
    "        return self.Integral*self.h"
   ]
  },
  {
   "cell_type": "code",
   "execution_count": 34,
   "id": "6a5da707",
   "metadata": {},
   "outputs": [],
   "source": [
    "class Simpson(Integrator):\n",
    "    \n",
    "    def __init__(self,x,f):\n",
    "        Integrator.__init__(self,x,f)\n",
    "        \n",
    "    def GetIntegral(self):\n",
    "        \n",
    "        self.Integral = 0.\n",
    "        \n",
    "        self.Integral += self.y[0]+self.y[-1]\n",
    "        \n",
    "        \n",
    "        for i in range( len(self.y[1:-1]) ):\n",
    "            if i%2 == 0:\n",
    "                self.Integral += 4.*self.y[i+1]\n",
    "            else:\n",
    "                self.Integral += 2.*self.y[i+1]\n",
    "        \n",
    "        \n",
    "        return self.Integral*self.h/3."
   ]
  },
  {
   "cell_type": "code",
   "execution_count": 41,
   "id": "479da471",
   "metadata": {},
   "outputs": [],
   "source": [
    "f = lambda x: np.sin(x)\n",
    "N = 12\n",
    "x = np.linspace(0,0.5*np.pi,N+1)"
   ]
  },
  {
   "cell_type": "code",
   "execution_count": 42,
   "id": "591f08e5",
   "metadata": {},
   "outputs": [
    {
     "data": {
      "text/plain": [
       "0.9985716979019743"
      ]
     },
     "execution_count": 42,
     "metadata": {},
     "output_type": "execute_result"
    }
   ],
   "source": [
    "Integrador1 = Trapezoid(x,f)\n",
    "Integrador1.GetIntegral()"
   ]
  },
  {
   "cell_type": "code",
   "execution_count": 43,
   "id": "d08790d2",
   "metadata": {},
   "outputs": [
    {
     "data": {
      "text/plain": [
       "1.0000016344385794"
      ]
     },
     "execution_count": 43,
     "metadata": {},
     "output_type": "execute_result"
    }
   ],
   "source": [
    "Integrador2 = Simpson(x,f)\n",
    "Integrador2.GetIntegral()"
   ]
  },
  {
   "cell_type": "code",
   "execution_count": 44,
   "id": "765d6ef3",
   "metadata": {},
   "outputs": [
    {
     "data": {
      "text/plain": [
       "0.9985716979019744"
      ]
     },
     "execution_count": 44,
     "metadata": {},
     "output_type": "execute_result"
    }
   ],
   "source": [
    "integrate.trapezoid(f(x),x)"
   ]
  },
  {
   "cell_type": "code",
   "execution_count": 45,
   "id": "22e4fd6e",
   "metadata": {},
   "outputs": [
    {
     "data": {
      "text/plain": [
       "1.0000016344385798"
      ]
     },
     "execution_count": 45,
     "metadata": {},
     "output_type": "execute_result"
    }
   ],
   "source": [
    "integrate.simpson(f(x),x)"
   ]
  },
  {
   "cell_type": "code",
   "execution_count": null,
   "id": "f7b26ee3",
   "metadata": {},
   "outputs": [],
   "source": []
  },
  {
   "cell_type": "code",
   "execution_count": null,
   "id": "8957e9a1",
   "metadata": {},
   "outputs": [],
   "source": []
  }
 ],
 "metadata": {
  "kernelspec": {
   "display_name": "Python 3 (ipykernel)",
   "language": "python",
   "name": "python3"
  },
  "language_info": {
   "codemirror_mode": {
    "name": "ipython",
    "version": 3
   },
   "file_extension": ".py",
   "mimetype": "text/x-python",
   "name": "python",
   "nbconvert_exporter": "python",
   "pygments_lexer": "ipython3",
   "version": "3.9.12"
  }
 },
 "nbformat": 4,
 "nbformat_minor": 5
}
