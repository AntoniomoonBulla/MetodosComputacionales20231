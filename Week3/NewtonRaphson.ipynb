{
 "cells": [
  {
   "cell_type": "code",
   "execution_count": null,
   "id": "756e3279",
   "metadata": {},
   "outputs": [],
   "source": [
    "import numpy as np\n",
    "import matplotlib.pyplot as plt\n",
    "from matplotlib import rc"
   ]
  },
  {
   "cell_type": "code",
   "execution_count": null,
   "id": "eb639c75",
   "metadata": {},
   "outputs": [],
   "source": [
    "def Function(x):\n",
    "    #return 5*(1-np.exp(-x)) - x \n",
    "    return 0.5*(3*x**2-1)"
   ]
  },
  {
   "cell_type": "code",
   "execution_count": null,
   "id": "e6bda9a4",
   "metadata": {},
   "outputs": [],
   "source": [
    "x = np.linspace(-1,1,100)\n",
    "y = Function(x)"
   ]
  },
  {
   "cell_type": "code",
   "execution_count": null,
   "id": "8a7c72ff",
   "metadata": {},
   "outputs": [],
   "source": [
    "plt.plot(x,y)\n",
    "plt.axhline(y=0,color='r')"
   ]
  },
  {
   "cell_type": "code",
   "execution_count": null,
   "id": "1d2ddbe3",
   "metadata": {},
   "outputs": [],
   "source": [
    "def Derivative(f,x,h=1e-4):\n",
    "    return (f(x+h)-f(x-h))/(2*h)"
   ]
  },
  {
   "cell_type": "code",
   "execution_count": null,
   "id": "8bc182e4",
   "metadata": {},
   "outputs": [],
   "source": [
    "def GetNewtonRaphson(f,df,xn,itmax = 100, precision=1e-5):\n",
    "    \n",
    "    error = 1\n",
    "    it = 0\n",
    "    \n",
    "    while error > precision and it < itmax:\n",
    "        \n",
    "        try:\n",
    "            \n",
    "            xn1 = xn - f(xn)/df(f,xn)\n",
    "            \n",
    "            error = np.abs(f(xn)/df(f,xn))\n",
    "            \n",
    "            print(error)\n",
    "            \n",
    "        except ZeroDivisionError:\n",
    "            \n",
    "            print('Division por cero')\n",
    "            \n",
    "        it += 1\n",
    "        xn = xn1\n",
    "      \n",
    "    print('Raiz: ',xn,it)\n",
    "    \n",
    "    return xn"
   ]
  },
  {
   "cell_type": "code",
   "execution_count": null,
   "id": "48bde3bf",
   "metadata": {},
   "outputs": [],
   "source": [
    "x = GetNewtonRaphson(Function,Derivative,1)\n",
    "x"
   ]
  },
  {
   "cell_type": "code",
   "execution_count": null,
   "id": "a6aa327d",
   "metadata": {},
   "outputs": [],
   "source": []
  }
 ],
 "metadata": {
  "kernelspec": {
   "display_name": "Python 3 (ipykernel)",
   "language": "python",
   "name": "python3"
  },
  "language_info": {
   "codemirror_mode": {
    "name": "ipython",
    "version": 3
   },
   "file_extension": ".py",
   "mimetype": "text/x-python",
   "name": "python",
   "nbconvert_exporter": "python",
   "pygments_lexer": "ipython3",
   "version": "3.9.12"
  }
 },
 "nbformat": 4,
 "nbformat_minor": 5
}
