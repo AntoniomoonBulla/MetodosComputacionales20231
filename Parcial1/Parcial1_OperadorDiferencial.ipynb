{
 "cells": [
  {
   "cell_type": "code",
   "execution_count": 1,
   "metadata": {},
   "outputs": [],
   "source": [
    "import numpy as np\n",
    "import matplotlib.pyplot as plt\n",
    "from matplotlib import rc\n",
    "import sympy as sym\n",
    "sym.init_printing(use_unicode=True) # Para que se vea más bonito los simbolos"
   ]
  },
  {
   "cell_type": "code",
   "execution_count": 2,
   "metadata": {},
   "outputs": [],
   "source": [
    "def Lagrange(x,X,i):\n",
    "    \n",
    "    prod = 1\n",
    "    n = len(X)\n",
    "    \n",
    "    for j in range(n):\n",
    "        if j != i:\n",
    "            prod *= (x - X[j])/(X[i]-X[j])\n",
    "        \n",
    "    return prod"
   ]
  },
  {
   "cell_type": "code",
   "execution_count": 13,
   "metadata": {},
   "outputs": [],
   "source": [
    "def GetCoefficients(x,p,X): # Punto p de evaluación de la derivada\n",
    "    \n",
    "    Coefficients = []\n",
    "    Bases = []\n",
    "    DBases = []\n",
    "    \n",
    "    for i in range(len(X)):\n",
    "        \n",
    "        Li = sym.simplify(Lagrange(x,X,i))\n",
    "        Li = sym.simplify(Li)\n",
    "        # Creamos la base cardinal en cada punto de la discretización\n",
    "        \n",
    "        Bases.append(Li)\n",
    "        # Guardamos las bases (opcional)\n",
    "        \n",
    "        dLi = sym.diff(Li,x,1)\n",
    "        dLi = sym.simplify(dLi)\n",
    "        # Derivamos la base cardinal en cada punto ...\n",
    "        \n",
    "        DBases.append(dLi)\n",
    "        # Guardamos las derivadas de la bases (opcional)\n",
    "        \n",
    "        C = dLi.subs(x,X[p])\n",
    "        C = sym.simplify(C)\n",
    "        # Evaluamos la derivada en el punto de interés (para la central p=0h)\n",
    "        \n",
    "        Coefficients.append(C)\n",
    "        # Agregamos cada coeficiente a una lista\n",
    "        \n",
    "    return Coefficients,Bases,DBases"
   ]
  },
  {
   "cell_type": "code",
   "execution_count": 21,
   "metadata": {},
   "outputs": [],
   "source": [
    "x = sym.Symbol('x',real=True)\n",
    "h = sym.Symbol('h',real=True)\n",
    "X = [-2*h,-1*h,0*h,1*h,2*h] # Discretizacion"
   ]
  },
  {
   "cell_type": "code",
   "execution_count": 23,
   "metadata": {},
   "outputs": [
    {
     "data": {
      "image/png": "[encoded data removed]",
      "text/latex": [
       "$\\displaystyle \\left[ \\frac{1}{12 h}, \\  - \\frac{2}{3 h}, \\  0, \\  \\frac{2}{3 h}, \\  - \\frac{1}{12 h}\\right]$"
      ],
      "text/plain": [
       "⎡ 1    -2       2   -1  ⎤\n",
       "⎢────, ───, 0, ───, ────⎥\n",
       "⎣12⋅h  3⋅h     3⋅h  12⋅h⎦"
      ]
     },
     "execution_count": 23,
     "metadata": {},
     "output_type": "execute_result"
    }
   ],
   "source": [
    "Coefficients,Bases,DBases = GetCoefficients(x,2,X)\n",
    "Coefficients"
   ]
  },
  {
   "cell_type": "code",
   "execution_count": 24,
   "metadata": {},
   "outputs": [
    {
     "data": {
      "image/png": "[encoded data removed]",
      "text/latex": [
       "$\\displaystyle \\left[ \\frac{x \\left(h - x\\right) \\left(h + x\\right) \\left(2 h - x\\right)}{24 h^{4}}, \\  - \\frac{x \\left(h - x\\right) \\left(2 h - x\\right) \\left(2 h + x\\right)}{6 h^{4}}, \\  1 - \\frac{5 x^{2}}{4 h^{2}} + \\frac{x^{4}}{4 h^{4}}, \\  \\frac{x \\left(h + x\\right) \\left(2 h - x\\right) \\left(2 h + x\\right)}{6 h^{4}}, \\  - \\frac{x \\left(h - x\\right) \\left(h + x\\right) \\left(2 h + x\\right)}{24 h^{4}}\\right]$"
      ],
      "text/plain": [
       "⎡                                                                     2     4                                                             \n",
       "⎢x⋅(h - x)⋅(h + x)⋅(2⋅h - x)  -x⋅(h - x)⋅(2⋅h - x)⋅(2⋅h + x)       5⋅x     x    x⋅(h + x)⋅(2⋅h - x)⋅(2⋅h + x)  -x⋅(h - x)⋅(h + x)⋅(2⋅h + x\n",
       "⎢───────────────────────────, ───────────────────────────────, 1 - ──── + ────, ─────────────────────────────, ───────────────────────────\n",
       "⎢               4                              4                      2      4                  4                              4          \n",
       "⎣           24⋅h                            6⋅h                    4⋅h    4⋅h                6⋅h                           24⋅h           \n",
       "\n",
       "  ⎤\n",
       ") ⎥\n",
       "──⎥\n",
       "  ⎥\n",
       "  ⎦"
      ]
     },
     "execution_count": 24,
     "metadata": {},
     "output_type": "execute_result"
    }
   ],
   "source": [
    "Bases"
   ]
  },
  {
   "cell_type": "code",
   "execution_count": 25,
   "metadata": {},
   "outputs": [
    {
     "data": {
      "image/png": "[encoded data removed]",
      "text/latex": [
       "$\\displaystyle \\left[ \\frac{h^{3} - h^{2} x - 3 h x^{2} + 2 x^{3}}{12 h^{4}}, \\  \\frac{- 4 h^{3} + 8 h^{2} x + 3 h x^{2} - 4 x^{3}}{6 h^{4}}, \\  - \\frac{5 x}{2 h^{2}} + \\frac{x^{3}}{h^{4}}, \\  \\frac{4 h^{3} + 8 h^{2} x - 3 h x^{2} - 4 x^{3}}{6 h^{4}}, \\  \\frac{- h^{3} - h^{2} x + 3 h x^{2} + 2 x^{3}}{12 h^{4}}\\right]$"
      ],
      "text/plain": [
       "⎡ 3    2          2      3       3      2          2      3            3     3      2          2      3     3    2          2      3⎤\n",
       "⎢h  - h ⋅x - 3⋅h⋅x  + 2⋅x   - 4⋅h  + 8⋅h ⋅x + 3⋅h⋅x  - 4⋅x     5⋅x    x   4⋅h  + 8⋅h ⋅x - 3⋅h⋅x  - 4⋅x   - h  - h ⋅x + 3⋅h⋅x  + 2⋅x ⎥\n",
       "⎢─────────────────────────, ───────────────────────────────, - ──── + ──, ─────────────────────────────, ───────────────────────────⎥\n",
       "⎢              4                             4                    2    4                  4                             4           ⎥\n",
       "⎣          12⋅h                           6⋅h                  2⋅h    h                6⋅h                          12⋅h            ⎦"
      ]
     },
     "execution_count": 25,
     "metadata": {},
     "output_type": "execute_result"
    }
   ],
   "source": [
    "DBases"
   ]
  },
  {
   "cell_type": "code",
   "execution_count": null,
   "metadata": {},
   "outputs": [],
   "source": []
  },
  {
   "cell_type": "code",
   "execution_count": null,
   "metadata": {},
   "outputs": [],
   "source": []
  }
 ],
 "metadata": {
  "anaconda-cloud": {},
  "kernelspec": {
   "display_name": "Python 3 (ipykernel)",
   "language": "python",
   "name": "python3"
  },
  "language_info": {
   "codemirror_mode": {
    "name": "ipython",
    "version": 3
   },
   "file_extension": ".py",
   "mimetype": "text/x-python",
   "name": "python",
   "nbconvert_exporter": "python",
   "pygments_lexer": "ipython3",
   "version": "3.9.12"
  }
 },
 "nbformat": 4,
 "nbformat_minor": 2
}
