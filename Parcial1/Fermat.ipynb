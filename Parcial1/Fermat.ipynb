{
 "cells": [
  {
   "cell_type": "code",
   "execution_count": 1,
   "id": "351c2a74",
   "metadata": {},
   "outputs": [],
   "source": [
    "import numpy as np\n",
    "import matplotlib.pyplot as plt"
   ]
  },
  {
   "cell_type": "code",
   "execution_count": 2,
   "id": "55fe2304",
   "metadata": {},
   "outputs": [],
   "source": [
    "n0 = 1.\n",
    "n1 = 1.33\n",
    "P = np.array([-3.,2.])\n",
    "O = np.array([2.,-2.]) "
   ]
  },
  {
   "cell_type": "code",
   "execution_count": 3,
   "id": "73bbd8d8",
   "metadata": {},
   "outputs": [],
   "source": [
    "def GetTime(x,y,P,O,n0=1.,n1=1.):\n",
    "    return n0*np.sqrt( (x-P[0])**2 + (y-P[1])**2 ) + n1*np.sqrt( (x-O[0])**2 + (y-O[1])**2 ) "
   ]
  },
  {
   "cell_type": "code",
   "execution_count": 4,
   "id": "8b94ae68",
   "metadata": {},
   "outputs": [],
   "source": [
    "x = np.linspace(P[0],O[0],100)\n",
    "t = GetTime(x,0.,P,O,n0,n1) "
   ]
  },
  {
   "cell_type": "code",
   "execution_count": 5,
   "id": "71eef16a",
   "metadata": {},
   "outputs": [
    {
     "data": {
      "text/plain": [
       "[<matplotlib.lines.Line2D at 0x7faeac6c47f0>]"
      ]
     },
     "execution_count": 5,
     "metadata": {},
     "output_type": "execute_result"
    },
    {
     "data": {
      "image/png": "[encoded data removed]",
      "text/plain": [
       "<Figure size 432x288 with 1 Axes>"
      ]
     },
     "metadata": {
      "needs_background": "light"
     },
     "output_type": "display_data"
    }
   ],
   "source": [
    "plt.plot(x,t)"
   ]
  },
  {
   "cell_type": "code",
   "execution_count": 6,
   "id": "d53499dc",
   "metadata": {},
   "outputs": [
    {
     "data": {
      "text/plain": [
       "array([0.33333333])"
      ]
     },
     "execution_count": 6,
     "metadata": {},
     "output_type": "execute_result"
    }
   ],
   "source": [
    "index = np.where(t == np.amin(t))\n",
    "x[index] # Solo una prueba"
   ]
  },
  {
   "cell_type": "code",
   "execution_count": 7,
   "id": "3809af02",
   "metadata": {},
   "outputs": [],
   "source": [
    "def Derivative(f,x,h=1e-5):\n",
    "    return (f(x+h,0,P,O,n0,n1) - f(x-h,0,P,O,n0,n1))/(2*h) "
   ]
  },
  {
   "cell_type": "code",
   "execution_count": 8,
   "id": "635cc54a",
   "metadata": {},
   "outputs": [],
   "source": [
    "def SecondDerivative(f,x,h=1e-5):\n",
    "    return (f(x+h,0,P,O,n0,n1) - 2*f(x,0,P,O,n0,n1) + f(x-h,0,P,O,n0,n1))/h**2 "
   ]
  },
  {
   "cell_type": "code",
   "execution_count": 9,
   "id": "f4e98692",
   "metadata": {},
   "outputs": [
    {
     "data": {
      "text/plain": [
       "[<matplotlib.lines.Line2D at 0x7faeac042880>]"
      ]
     },
     "execution_count": 9,
     "metadata": {},
     "output_type": "execute_result"
    },
    {
     "data": {
      "image/png": "[encoded data removed]",
      "text/plain": [
       "<Figure size 432x288 with 1 Axes>"
      ]
     },
     "metadata": {
      "needs_background": "light"
     },
     "output_type": "display_data"
    }
   ],
   "source": [
    "plt.plot(x,Derivative(GetTime,x))\n",
    "plt.plot(x,SecondDerivative(GetTime,x))"
   ]
  },
  {
   "cell_type": "code",
   "execution_count": 10,
   "id": "94f11185",
   "metadata": {},
   "outputs": [],
   "source": [
    "def Newton(x,f,precision=1e-6, itmax = 100):\n",
    "    \n",
    "    error = 1.\n",
    "    x1 = 0.\n",
    "    it = 0\n",
    "    \n",
    "    while error >= precision and it <= itmax:\n",
    "        \n",
    "        step = Derivative(f,x)/SecondDerivative(f,x)\n",
    "        \n",
    "        x1 = x - step\n",
    "        error = np.abs(step)\n",
    "        \n",
    "        #print(error)\n",
    "        it += 1\n",
    "        x = x1\n",
    "    \n",
    "    if it < itmax:\n",
    "        print(\"Alcanzado en: %.0f pasos\" %(it) )\n",
    "    else:\n",
    "        print(\"No alcanzado\")\n",
    "        \n",
    "    return x1"
   ]
  },
  {
   "cell_type": "code",
   "execution_count": 11,
   "id": "5104bab2",
   "metadata": {},
   "outputs": [
    {
     "name": "stdout",
     "output_type": "stream",
     "text": [
      "Alcanzado en: 5 pasos\n"
     ]
    },
    {
     "data": {
      "text/plain": [
       "0.31690575706369306"
      ]
     },
     "execution_count": 11,
     "metadata": {},
     "output_type": "execute_result"
    }
   ],
   "source": [
    "xoptimo = Newton(3,GetTime)\n",
    "xoptimo"
   ]
  },
  {
   "cell_type": "code",
   "execution_count": 12,
   "id": "7076a654",
   "metadata": {},
   "outputs": [],
   "source": [
    "punto = np.array([xoptimo,0.])"
   ]
  },
  {
   "cell_type": "code",
   "execution_count": 13,
   "id": "4f7bdcb3",
   "metadata": {},
   "outputs": [
    {
     "name": "stdout",
     "output_type": "stream",
     "text": [
      "3.873223954439282 2.613963701087936\n"
     ]
    }
   ],
   "source": [
    "d0 = np.linalg.norm( punto - P ) # esto es pitagoras de toda la vida\n",
    "d1 = np.linalg.norm( punto - O )\n",
    "print(d0,d1)"
   ]
  },
  {
   "cell_type": "code",
   "execution_count": 14,
   "id": "e347741a",
   "metadata": {},
   "outputs": [
    {
     "name": "stdout",
     "output_type": "stream",
     "text": [
      "3.316905757063693 1.683094242936307\n"
     ]
    }
   ],
   "source": [
    "cateto0 = (punto - P)[0]\n",
    "cateto1 = (O - punto)[0]\n",
    "print(cateto0,cateto1)"
   ]
  },
  {
   "cell_type": "code",
   "execution_count": 15,
   "id": "1a4fef7b",
   "metadata": {},
   "outputs": [],
   "source": [
    "sintheta0 = cateto0/d0 "
   ]
  },
  {
   "cell_type": "code",
   "execution_count": 16,
   "id": "2a90380e",
   "metadata": {},
   "outputs": [
    {
     "data": {
      "text/plain": [
       "43.285130024467456"
      ]
     },
     "execution_count": 16,
     "metadata": {},
     "output_type": "execute_result"
    }
   ],
   "source": [
    "angle0 = np.sin(sintheta0) * 180/np.pi\n",
    "angle0"
   ]
  },
  {
   "cell_type": "code",
   "execution_count": 17,
   "id": "b35f21f3",
   "metadata": {},
   "outputs": [
    {
     "data": {
      "text/plain": [
       "34.39510046038327"
      ]
     },
     "execution_count": 17,
     "metadata": {},
     "output_type": "execute_result"
    }
   ],
   "source": [
    "sintheta1 = cateto1/d1\n",
    "angle1 = np.sin(sintheta1) * 180/np.pi\n",
    "angle1"
   ]
  },
  {
   "cell_type": "code",
   "execution_count": 18,
   "id": "e476d4e0",
   "metadata": {},
   "outputs": [
    {
     "data": {
      "text/plain": [
       "1.3299999999384602"
      ]
     },
     "execution_count": 18,
     "metadata": {},
     "output_type": "execute_result"
    }
   ],
   "source": [
    "# Verificamos ley de snell\n",
    "sintheta0/sintheta1"
   ]
  },
  {
   "cell_type": "code",
   "execution_count": null,
   "id": "aec77969",
   "metadata": {},
   "outputs": [],
   "source": []
  },
  {
   "cell_type": "code",
   "execution_count": 19,
   "id": "c5007af5",
   "metadata": {},
   "outputs": [],
   "source": [
    "# pintamos"
   ]
  },
  {
   "cell_type": "code",
   "execution_count": 20,
   "id": "34515e2f",
   "metadata": {},
   "outputs": [
    {
     "data": {
      "text/plain": [
       "array([[-3.        ,  2.        ],\n",
       "       [ 0.31690576,  0.        ]])"
      ]
     },
     "execution_count": 20,
     "metadata": {},
     "output_type": "execute_result"
    }
   ],
   "source": [
    "plotx = np.array([P,punto])\n",
    "plotx"
   ]
  },
  {
   "cell_type": "code",
   "execution_count": 21,
   "id": "c669ff2c",
   "metadata": {},
   "outputs": [
    {
     "data": {
      "text/plain": [
       "array([[ 2.        , -2.        ],\n",
       "       [ 0.31690576,  0.        ]])"
      ]
     },
     "execution_count": 21,
     "metadata": {},
     "output_type": "execute_result"
    }
   ],
   "source": [
    "ploty = np.array([O,punto])\n",
    "ploty"
   ]
  },
  {
   "cell_type": "code",
   "execution_count": 23,
   "id": "b516b646",
   "metadata": {},
   "outputs": [
    {
     "data": {
      "text/plain": [
       "<matplotlib.legend.Legend at 0x7fae96b472e0>"
      ]
     },
     "execution_count": 23,
     "metadata": {},
     "output_type": "execute_result"
    },
    {
     "data": {
      "image/png": "[encoded data removed]",
      "text/plain": [
       "<Figure size 360x360 with 1 Axes>"
      ]
     },
     "metadata": {
      "needs_background": "light"
     },
     "output_type": "display_data"
    }
   ],
   "source": [
    "fig = plt.figure(figsize=(5,5))\n",
    "ax = fig.add_subplot(111)\n",
    "\n",
    "\n",
    "ax.axis('equal')\n",
    "\n",
    "ax.plot(plotx[:,0],plotx[:,1],color='r',label='Air')\n",
    "ax.plot(ploty[:,0],ploty[:,1],color='k',label='Water')\n",
    "\n",
    "ax.scatter(punto[0],punto[1],color='k',marker='o',s=20)\n",
    "\n",
    "ax.axhline(y=0,color='b',alpha=1.0)\n",
    "ax.axvline(x=punto[0],color='b',ls='--',alpha=0.3)\n",
    "\n",
    "\n",
    "plt.text(-2.8,2.2,r'Transmitter',fontsize=15)\n",
    "plt.text(1.5,-2.5,r'Receiver',fontsize=15)\n",
    "\n",
    "plt.text(-0.5,1,r'$\\alpha_{0}$',fontsize=15)\n",
    "plt.text(0.6,-1.2,r'$\\alpha_{1}$',fontsize=15)\n",
    "\n",
    "ax.set_xticklabels('')\n",
    "ax.set_yticklabels('')\n",
    "\n",
    "\n",
    "ax.set_xlim(-3,3)\n",
    "ax.set_ylim(-3,3)\n",
    "ax.set_xlabel(r'$x[m]$',fontsize=15)\n",
    "ax.set_ylabel(r'$y[m]$',fontsize=15)\n",
    "\n",
    "ax.legend(loc=0)\n",
    "\n",
    "#plt.savefig('fermat.pdf')"
   ]
  },
  {
   "cell_type": "code",
   "execution_count": null,
   "id": "20a46f50",
   "metadata": {},
   "outputs": [],
   "source": []
  },
  {
   "cell_type": "code",
   "execution_count": null,
   "id": "20f62c36",
   "metadata": {},
   "outputs": [],
   "source": []
  }
 ],
 "metadata": {
  "kernelspec": {
   "display_name": "Python 3 (ipykernel)",
   "language": "python",
   "name": "python3"
  },
  "language_info": {
   "codemirror_mode": {
    "name": "ipython",
    "version": 3
   },
   "file_extension": ".py",
   "mimetype": "text/x-python",
   "name": "python",
   "nbconvert_exporter": "python",
   "pygments_lexer": "ipython3",
   "version": "3.9.12"
  }
 },
 "nbformat": 4,
 "nbformat_minor": 5
}
