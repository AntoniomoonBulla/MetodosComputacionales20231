{
 "cells": [
  {
   "cell_type": "code",
   "execution_count": 1,
   "id": "9f23ee58",
   "metadata": {},
   "outputs": [],
   "source": [
    "import numpy as np\n",
    "import matplotlib.pyplot as plt\n",
    "from matplotlib import rc\n",
    "from tqdm import tqdm"
   ]
  },
  {
   "cell_type": "code",
   "execution_count": 6,
   "id": "f543a600",
   "metadata": {},
   "outputs": [],
   "source": [
    "class MyRandom():\n",
    "    \n",
    "    def __init__(self,seed=15,method='simple'):\n",
    "        \n",
    "        self.r = seed\n",
    "        self.method = method\n",
    "        \n",
    "        if method=='simple':\n",
    "            self.a = 75\n",
    "            self.c = 3\n",
    "            self.M = 150\n",
    "        elif method == 'drand48':\n",
    "            self.a = int('5DEECE66D',16)\n",
    "            self.c = int('B',16)\n",
    "            self.M = 2**48\n",
    "        else:\n",
    "            print('Generador no existente')\n",
    "            \n",
    "    def GetNumber(self):\n",
    "        \n",
    "        r = (self.a*self.r + self.c)%self.M\n",
    "        self.r = r\n",
    "        \n",
    "        return r/float(self.M)"
   ]
  },
  {
   "cell_type": "code",
   "execution_count": 7,
   "id": "064bfad5",
   "metadata": {},
   "outputs": [],
   "source": [
    "rand1 = MyRandom(seed=15)\n",
    "rand2 = MyRandom(seed=50,method='drand48')"
   ]
  },
  {
   "cell_type": "code",
   "execution_count": 21,
   "id": "75c1c9e8",
   "metadata": {},
   "outputs": [
    {
     "name": "stdout",
     "output_type": "stream",
     "text": [
      "0.52 0.6873807147106383\n",
      "0.02 0.8275339419836953\n",
      "0.52 0.1751304421084292\n",
      "0.02 0.7057733588089121\n",
      "0.52 0.5450847012730513\n",
      "0.02 0.22663632750438722\n",
      "0.52 0.1248682733931652\n",
      "0.02 0.8903479991501513\n",
      "0.52 0.264262215397121\n",
      "0.02 0.13196465040429217\n"
     ]
    }
   ],
   "source": [
    "for i in range(10):\n",
    "    print(rand1.GetNumber(),rand2.GetNumber())"
   ]
  },
  {
   "cell_type": "code",
   "execution_count": null,
   "id": "46b4e286",
   "metadata": {},
   "outputs": [],
   "source": []
  }
 ],
 "metadata": {
  "kernelspec": {
   "display_name": "Python 3 (ipykernel)",
   "language": "python",
   "name": "python3"
  },
  "language_info": {
   "codemirror_mode": {
    "name": "ipython",
    "version": 3
   },
   "file_extension": ".py",
   "mimetype": "text/x-python",
   "name": "python",
   "nbconvert_exporter": "python",
   "pygments_lexer": "ipython3",
   "version": "3.9.12"
  }
 },
 "nbformat": 4,
 "nbformat_minor": 5
}
