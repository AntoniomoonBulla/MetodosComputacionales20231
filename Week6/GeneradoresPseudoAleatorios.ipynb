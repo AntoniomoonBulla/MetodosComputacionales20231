{
 "cells": [
  {
   "cell_type": "code",
   "execution_count": 1,
   "id": "9f23ee58",
   "metadata": {},
   "outputs": [],
   "source": [
    "import numpy as np\n",
    "import matplotlib.pyplot as plt\n",
    "from matplotlib import rc\n",
    "from tqdm import tqdm"
   ]
  },
  {
   "cell_type": "code",
   "execution_count": null,
   "id": "fc4aaa0a",
   "metadata": {},
   "outputs": [],
   "source": []
  },
  {
   "cell_type": "code",
   "execution_count": 5,
   "id": "f543a600",
   "metadata": {},
   "outputs": [],
   "source": [
    "class MyRandom():\n",
    "    \n",
    "    def __init__(self,seed=15,method='simple'):\n",
    "        \n",
    "        self.r = seed\n",
    "        self.method = method\n",
    "        \n",
    "        if method=='simple':\n",
    "            self.a = 75\n",
    "            self.c = 3\n",
    "            self.M = 150\n",
    "        elif method == 'drand48':\n",
    "            self.a = int('5DEECE66D',16)\n",
    "            self.c = int('B',16)\n",
    "            self.M = 2**48\n",
    "        else:\n",
    "            print('Generador no existente')\n",
    "            \n",
    "    def GetNumber(self):\n",
    "        \n",
    "        r = (self.a*self.r + self.c)%self.M\n",
    "        self.r = r\n",
    "        \n",
    "        return r/float(self.M)\n",
    "    \n",
    "    def Random(self, size=None):\n",
    "        \n",
    "        if size == None:\n",
    "            return self.GetNumber()\n",
    "        else:\n",
    "            \n",
    "            sample = np.zeros(size)\n",
    "            for i in range(size):\n",
    "                sample[i] = self.GetNumber()\n",
    "                \n",
    "            return sample"
   ]
  },
  {
   "cell_type": "code",
   "execution_count": 22,
   "id": "064bfad5",
   "metadata": {},
   "outputs": [],
   "source": [
    "rand1 = MyRandom(seed=150)\n",
    "rand2 = MyRandom(seed=50,method='drand48')"
   ]
  },
  {
   "cell_type": "code",
   "execution_count": 23,
   "id": "75c1c9e8",
   "metadata": {},
   "outputs": [],
   "source": [
    "#for i in range(10):\n",
    "#    print(rand1.GetNumber(),rand2.GetNumber())"
   ]
  },
  {
   "cell_type": "code",
   "execution_count": 24,
   "id": "46b4e286",
   "metadata": {},
   "outputs": [],
   "source": [
    "#rand1.Random(10)"
   ]
  },
  {
   "cell_type": "code",
   "execution_count": 25,
   "id": "44637e31",
   "metadata": {},
   "outputs": [],
   "source": [
    "#np.random.uniform(-1,1,size=(3,4))"
   ]
  },
  {
   "cell_type": "code",
   "execution_count": 26,
   "id": "e649a8db",
   "metadata": {},
   "outputs": [],
   "source": [
    "N = 5000\n",
    "sample1 = rand1.Random(N)\n",
    "sample2 = rand2.Random(N)"
   ]
  },
  {
   "cell_type": "code",
   "execution_count": 27,
   "id": "9fb3819e",
   "metadata": {},
   "outputs": [
    {
     "data": {
      "text/plain": [
       "array([ True, False,  True, ..., False,  True, False])"
      ]
     },
     "execution_count": 27,
     "metadata": {},
     "output_type": "execute_result"
    }
   ],
   "source": [
    "indices =np.arange(N)\n",
    "Even = (indices%2) == 0\n",
    "Even"
   ]
  },
  {
   "cell_type": "code",
   "execution_count": 28,
   "id": "29dca96a",
   "metadata": {},
   "outputs": [
    {
     "data": {
      "text/plain": [
       "<matplotlib.collections.PathCollection at 0x7f5a126856d0>"
      ]
     },
     "execution_count": 28,
     "metadata": {},
     "output_type": "execute_result"
    },
    {
     "data": {
      "image/png": "[encoded data removed]",
      "text/plain": [
       "<Figure size 432x288 with 1 Axes>"
      ]
     },
     "metadata": {
      "needs_background": "light"
     },
     "output_type": "display_data"
    }
   ],
   "source": [
    "fig = plt.figure()\n",
    "ax1 = fig.add_subplot(121)\n",
    "ax1.scatter(sample1[Even],sample1[~Even])"
   ]
  },
  {
   "cell_type": "code",
   "execution_count": null,
   "id": "4f6ffde0",
   "metadata": {},
   "outputs": [],
   "source": []
  }
 ],
 "metadata": {
  "kernelspec": {
   "display_name": "Python 3 (ipykernel)",
   "language": "python",
   "name": "python3"
  },
  "language_info": {
   "codemirror_mode": {
    "name": "ipython",
    "version": 3
   },
   "file_extension": ".py",
   "mimetype": "text/x-python",
   "name": "python",
   "nbconvert_exporter": "python",
   "pygments_lexer": "ipython3",
   "version": "3.9.12"
  }
 },
 "nbformat": 4,
 "nbformat_minor": 5
}
