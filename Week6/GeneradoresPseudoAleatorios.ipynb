{
 "cells": [
  {
   "cell_type": "code",
   "execution_count": 7,
   "id": "9f23ee58",
   "metadata": {},
   "outputs": [],
   "source": [
    "import numpy as np\n",
    "import matplotlib.pyplot as plt\n",
    "from matplotlib import rc"
   ]
  },
  {
   "cell_type": "code",
   "execution_count": 8,
   "id": "f543a600",
   "metadata": {},
   "outputs": [],
   "source": [
    "class MyRandom():\n",
    "    \n",
    "    def __init__(self,seed=15,method='simple'):\n",
    "        \n",
    "        self.r = seed\n",
    "        self.method = method\n",
    "        \n",
    "        if method=='simple':\n",
    "            self.a = 75\n",
    "            self.c = 3\n",
    "            self.M = 150\n",
    "        elif method == 'drand48':\n",
    "            self.a = int('5DEECE66D',16)\n",
    "            self.c = int('B',16)\n",
    "            self.M = 2**48\n",
    "        else:\n",
    "            print('Generador no existente')\n",
    "            \n",
    "    def Random(self):\n",
    "        \n",
    "        r = (self.a*self.r + self.c)%self.M\n",
    "        self.r\n",
    "        \n",
    "        return r/float(self.M)"
   ]
  },
  {
   "cell_type": "code",
   "execution_count": 9,
   "id": "064bfad5",
   "metadata": {},
   "outputs": [],
   "source": [
    "rand0 = MyRandom(seed=2,method='simple')"
   ]
  },
  {
   "cell_type": "code",
   "execution_count": 10,
   "id": "fb484097",
   "metadata": {},
   "outputs": [
    {
     "data": {
      "text/plain": [
       "0.02"
      ]
     },
     "execution_count": 10,
     "metadata": {},
     "output_type": "execute_result"
    }
   ],
   "source": [
    "rand0.Random()"
   ]
  },
  {
   "cell_type": "code",
   "execution_count": 13,
   "id": "6814b901",
   "metadata": {},
   "outputs": [
    {
     "data": {
      "text/plain": [
       "0.6242080999518509"
      ]
     },
     "execution_count": 13,
     "metadata": {},
     "output_type": "execute_result"
    }
   ],
   "source": [
    "np.random.rand()"
   ]
  },
  {
   "cell_type": "code",
   "execution_count": null,
   "id": "bb94ad69",
   "metadata": {},
   "outputs": [],
   "source": []
  }
 ],
 "metadata": {
  "kernelspec": {
   "display_name": "Python 3 (ipykernel)",
   "language": "python",
   "name": "python3"
  },
  "language_info": {
   "codemirror_mode": {
    "name": "ipython",
    "version": 3
   },
   "file_extension": ".py",
   "mimetype": "text/x-python",
   "name": "python",
   "nbconvert_exporter": "python",
   "pygments_lexer": "ipython3",
   "version": "3.9.12"
  }
 },
 "nbformat": 4,
 "nbformat_minor": 5
}
