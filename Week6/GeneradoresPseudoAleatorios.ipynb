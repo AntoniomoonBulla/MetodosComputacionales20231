{
 "cells": [
  {
   "cell_type": "code",
   "execution_count": 1,
   "id": "9f23ee58",
   "metadata": {},
   "outputs": [],
   "source": [
    "import numpy as np\n",
    "import matplotlib.pyplot as plt\n",
    "from matplotlib import rc\n",
    "from tqdm import tqdm"
   ]
  },
  {
   "cell_type": "code",
   "execution_count": null,
   "id": "20db28fc",
   "metadata": {},
   "outputs": [],
   "source": []
  },
  {
   "cell_type": "code",
   "execution_count": 40,
   "id": "f543a600",
   "metadata": {},
   "outputs": [],
   "source": [
    "class MyRandom():\n",
    "    \n",
    "    def __init__(self,seed=15,method='simple'):\n",
    "        \n",
    "        self.r = seed\n",
    "        self.method = method\n",
    "        \n",
    "        if method=='simple':\n",
    "            self.a = 57\n",
    "            self.c = 1\n",
    "            self.M = 265\n",
    "        elif method == 'drand48':\n",
    "            self.a = int('5DEECE66D',16)\n",
    "            self.c = int('B',16)\n",
    "            self.M = 2**48\n",
    "        else:\n",
    "            print('Generador no existente')\n",
    "            \n",
    "    def GetNumber(self):\n",
    "        \n",
    "        r = (self.a*self.r + self.c)%self.M\n",
    "        self.r = r\n",
    "        \n",
    "        return r/float(self.M)\n",
    "    \n",
    "    def Random(self, size=None):\n",
    "        \n",
    "        if size == None:\n",
    "            return self.GetNumber()\n",
    "        else:\n",
    "            \n",
    "            sample = np.zeros(size)\n",
    "            for i in range(size):\n",
    "                sample[i] = self.GetNumber()\n",
    "                \n",
    "            return sample\n",
    "        \n",
    "    def GetMoment(self,k=1,N=int(1e3)):\n",
    "        \n",
    "        sample = self.Random(N)\n",
    "        \n",
    "        Moment = np.sqrt(N)*( np.abs( np.mean(sample**k) - 1/(1+k) ) )\n",
    "        \n",
    "        return Moment"
   ]
  },
  {
   "cell_type": "code",
   "execution_count": 41,
   "id": "064bfad5",
   "metadata": {},
   "outputs": [],
   "source": [
    "rand1 = MyRandom(seed=150)\n",
    "rand2 = MyRandom(seed=50,method='drand48')"
   ]
  },
  {
   "cell_type": "code",
   "execution_count": 42,
   "id": "75c1c9e8",
   "metadata": {},
   "outputs": [],
   "source": [
    "#for i in range(10):\n",
    "#    print(rand1.GetNumber(),rand2.GetNumber())"
   ]
  },
  {
   "cell_type": "code",
   "execution_count": 43,
   "id": "46b4e286",
   "metadata": {},
   "outputs": [],
   "source": [
    "#rand1.Random(10)"
   ]
  },
  {
   "cell_type": "code",
   "execution_count": 44,
   "id": "78d73eed",
   "metadata": {},
   "outputs": [],
   "source": [
    "#np.random.uniform(-1,1,size=(3,4))"
   ]
  },
  {
   "cell_type": "code",
   "execution_count": 45,
   "id": "d921296f",
   "metadata": {},
   "outputs": [],
   "source": [
    "N = 5000\n",
    "sample1 = rand1.Random(N)\n",
    "sample2 = rand2.Random(N)"
   ]
  },
  {
   "cell_type": "code",
   "execution_count": 46,
   "id": "ba0e916f",
   "metadata": {},
   "outputs": [
    {
     "data": {
      "text/plain": [
       "array([ True, False,  True, ..., False,  True, False])"
      ]
     },
     "execution_count": 46,
     "metadata": {},
     "output_type": "execute_result"
    }
   ],
   "source": [
    "indices =np.arange(N)\n",
    "Even = (indices%2) == 0\n",
    "Even"
   ]
  },
  {
   "cell_type": "code",
   "execution_count": 47,
   "id": "2cc5a076",
   "metadata": {},
   "outputs": [
    {
     "data": {
      "text/plain": [
       "<matplotlib.collections.PathCollection at 0x7f5a12412b50>"
      ]
     },
     "execution_count": 47,
     "metadata": {},
     "output_type": "execute_result"
    },
    {
     "data": {
      "image/png": "[encoded data removed]",
      "text/plain": [
       "<Figure size 432x288 with 2 Axes>"
      ]
     },
     "metadata": {
      "needs_background": "light"
     },
     "output_type": "display_data"
    }
   ],
   "source": [
    "fig = plt.figure()\n",
    "ax1 = fig.add_subplot(121)\n",
    "ax2 = fig.add_subplot(122)\n",
    "ax1.scatter(sample1[Even],sample1[~Even])\n",
    "ax2.scatter(sample2[Even],sample2[~Even])"
   ]
  },
  {
   "cell_type": "code",
   "execution_count": 54,
   "id": "ac2c9275",
   "metadata": {},
   "outputs": [
    {
     "data": {
      "text/plain": [
       "1.3995656408501838"
      ]
     },
     "execution_count": 54,
     "metadata": {},
     "output_type": "execute_result"
    }
   ],
   "source": [
    "rand1.GetMoment(k=30,N=int(1e5))"
   ]
  },
  {
   "cell_type": "code",
   "execution_count": 55,
   "id": "ceb99589",
   "metadata": {},
   "outputs": [
    {
     "data": {
      "text/plain": [
       "array([1.e+02, 1.e+03, 1.e+04, 1.e+05, 1.e+06])"
      ]
     },
     "execution_count": 55,
     "metadata": {},
     "output_type": "execute_result"
    }
   ],
   "source": [
    "Np = 5\n",
    "Points = np.logspace(2,6,Np)\n",
    "Points"
   ]
  },
  {
   "cell_type": "code",
   "execution_count": null,
   "id": "424bb47c",
   "metadata": {},
   "outputs": [],
   "source": []
  }
 ],
 "metadata": {
  "kernelspec": {
   "display_name": "Python 3 (ipykernel)",
   "language": "python",
   "name": "python3"
  },
  "language_info": {
   "codemirror_mode": {
    "name": "ipython",
    "version": 3
   },
   "file_extension": ".py",
   "mimetype": "text/x-python",
   "name": "python",
   "nbconvert_exporter": "python",
   "pygments_lexer": "ipython3",
   "version": "3.9.12"
  }
 },
 "nbformat": 4,
 "nbformat_minor": 5
}
