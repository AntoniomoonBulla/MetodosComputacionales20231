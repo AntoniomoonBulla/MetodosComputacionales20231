{
 "cells": [
  {
   "cell_type": "code",
   "execution_count": 1,
   "id": "56452d9c",
   "metadata": {},
   "outputs": [],
   "source": [
    "%matplotlib notebook\n",
    "import numpy as np\n",
    "import matplotlib.pyplot as plt\n",
    "from tqdm import tqdm\n",
    "from scipy import integrate\n",
    "from scipy.stats import norm \n",
    "from scipy.stats import beta\n",
    "import matplotlib.animation as anim"
   ]
  },
  {
   "cell_type": "code",
   "execution_count": 2,
   "id": "4126f029",
   "metadata": {},
   "outputs": [],
   "source": [
    "def f(x):\n",
    "    #return beta.pdf(x,2,4)\n",
    "    return norm.pdf(x,0,1)"
   ]
  },
  {
   "cell_type": "code",
   "execution_count": 3,
   "id": "3f53884a",
   "metadata": {},
   "outputs": [
    {
     "data": {
      "text/plain": [
       "(0.9999999999999998, 1.0178191320905743e-08)"
      ]
     },
     "execution_count": 3,
     "metadata": {},
     "output_type": "execute_result"
    }
   ],
   "source": [
    "I = integrate.quad(f,-np.inf,np.inf)\n",
    "I"
   ]
  },
  {
   "cell_type": "code",
   "execution_count": 4,
   "id": "e2880cee",
   "metadata": {},
   "outputs": [],
   "source": [
    "a = -5\n",
    "b = 5 "
   ]
  },
  {
   "cell_type": "code",
   "execution_count": 5,
   "id": "12af4187",
   "metadata": {},
   "outputs": [
    {
     "data": {
      "text/plain": [
       "0.3989372836656826"
      ]
     },
     "execution_count": 5,
     "metadata": {},
     "output_type": "execute_result"
    }
   ],
   "source": [
    "x = np.linspace(a,b,1000)\n",
    "y = f(x)\n",
    "Max = np.max(y)\n",
    "Max"
   ]
  },
  {
   "cell_type": "code",
   "execution_count": null,
   "id": "80bb3c41",
   "metadata": {},
   "outputs": [],
   "source": []
  }
 ],
 "metadata": {
  "kernelspec": {
   "display_name": "Python 3 (ipykernel)",
   "language": "python",
   "name": "python3"
  },
  "language_info": {
   "codemirror_mode": {
    "name": "ipython",
    "version": 3
   },
   "file_extension": ".py",
   "mimetype": "text/x-python",
   "name": "python",
   "nbconvert_exporter": "python",
   "pygments_lexer": "ipython3",
   "version": "3.9.12"
  }
 },
 "nbformat": 4,
 "nbformat_minor": 5
}
